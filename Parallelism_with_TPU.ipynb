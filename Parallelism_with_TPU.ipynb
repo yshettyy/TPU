{
  "nbformat": 4,
  "nbformat_minor": 0,
  "metadata": {
    "colab": {
      "name": "Parallelism_with_TPU.ipynb",
      "provenance": [],
      "collapsed_sections": []
    },
    "kernelspec": {
      "name": "python3",
      "display_name": "Python 3"
    },
    "accelerator": "TPU"
  },
  "cells": [
    {
      "cell_type": "code",
      "metadata": {
        "id": "s9ILUSTk080j"
      },
      "source": [
        "import tensorflow as tf\r\n",
        "from tensorflow import keras\r\n",
        "import numpy as np\r\n",
        "import os \r\n",
        "import time\r\n",
        "import time"
      ],
      "execution_count": 1,
      "outputs": []
    },
    {
      "cell_type": "code",
      "metadata": {
        "colab": {
          "base_uri": "https://localhost:8080/"
        },
        "id": "fXJ2GVL113O6",
        "outputId": "5eddb4e5-3731-46d3-b3c5-f8af5ceefa2b"
      },
      "source": [
        "resolver = tf.distribute.cluster_resolver.TPUClusterResolver(tpu='grpc://' + os.environ['COLAB_TPU_ADDR'])\r\n",
        "tf.config.experimental_connect_to_cluster(resolver)\r\n",
        "# This is the TPU initialization code that has to be at the beginning.\r\n",
        "tf.tpu.experimental.initialize_tpu_system(resolver)\r\n",
        "print(\"All devices: \", tf.config.list_logical_devices('TPU'))"
      ],
      "execution_count": 2,
      "outputs": [
        {
          "output_type": "stream",
          "text": [
            "INFO:tensorflow:Initializing the TPU system: grpc://10.90.53.234:8470\n"
          ],
          "name": "stdout"
        },
        {
          "output_type": "stream",
          "text": [
            "INFO:tensorflow:Initializing the TPU system: grpc://10.90.53.234:8470\n"
          ],
          "name": "stderr"
        },
        {
          "output_type": "stream",
          "text": [
            "INFO:tensorflow:Clearing out eager caches\n"
          ],
          "name": "stdout"
        },
        {
          "output_type": "stream",
          "text": [
            "INFO:tensorflow:Clearing out eager caches\n"
          ],
          "name": "stderr"
        },
        {
          "output_type": "stream",
          "text": [
            "INFO:tensorflow:Finished initializing TPU system.\n"
          ],
          "name": "stdout"
        },
        {
          "output_type": "stream",
          "text": [
            "INFO:tensorflow:Finished initializing TPU system.\n"
          ],
          "name": "stderr"
        },
        {
          "output_type": "stream",
          "text": [
            "All devices:  [LogicalDevice(name='/job:worker/replica:0/task:0/device:TPU:7', device_type='TPU'), LogicalDevice(name='/job:worker/replica:0/task:0/device:TPU:6', device_type='TPU'), LogicalDevice(name='/job:worker/replica:0/task:0/device:TPU:5', device_type='TPU'), LogicalDevice(name='/job:worker/replica:0/task:0/device:TPU:4', device_type='TPU'), LogicalDevice(name='/job:worker/replica:0/task:0/device:TPU:3', device_type='TPU'), LogicalDevice(name='/job:worker/replica:0/task:0/device:TPU:0', device_type='TPU'), LogicalDevice(name='/job:worker/replica:0/task:0/device:TPU:1', device_type='TPU'), LogicalDevice(name='/job:worker/replica:0/task:0/device:TPU:2', device_type='TPU')]\n"
          ],
          "name": "stdout"
        }
      ]
    },
    {
      "cell_type": "code",
      "metadata": {
        "colab": {
          "base_uri": "https://localhost:8080/"
        },
        "id": "XQA7EJxw2MOd",
        "outputId": "e7316a92-8417-4ee8-89ce-fcf06962341e"
      },
      "source": [
        "strategy = tf.distribute.TPUStrategy(resolver)"
      ],
      "execution_count": 3,
      "outputs": [
        {
          "output_type": "stream",
          "text": [
            "INFO:tensorflow:Found TPU system:\n"
          ],
          "name": "stdout"
        },
        {
          "output_type": "stream",
          "text": [
            "INFO:tensorflow:Found TPU system:\n"
          ],
          "name": "stderr"
        },
        {
          "output_type": "stream",
          "text": [
            "INFO:tensorflow:*** Num TPU Cores: 8\n"
          ],
          "name": "stdout"
        },
        {
          "output_type": "stream",
          "text": [
            "INFO:tensorflow:*** Num TPU Cores: 8\n"
          ],
          "name": "stderr"
        },
        {
          "output_type": "stream",
          "text": [
            "INFO:tensorflow:*** Num TPU Workers: 1\n"
          ],
          "name": "stdout"
        },
        {
          "output_type": "stream",
          "text": [
            "INFO:tensorflow:*** Num TPU Workers: 1\n"
          ],
          "name": "stderr"
        },
        {
          "output_type": "stream",
          "text": [
            "INFO:tensorflow:*** Num TPU Cores Per Worker: 8\n"
          ],
          "name": "stdout"
        },
        {
          "output_type": "stream",
          "text": [
            "INFO:tensorflow:*** Num TPU Cores Per Worker: 8\n"
          ],
          "name": "stderr"
        },
        {
          "output_type": "stream",
          "text": [
            "INFO:tensorflow:*** Available Device: _DeviceAttributes(/job:localhost/replica:0/task:0/device:CPU:0, CPU, 0, 0)\n"
          ],
          "name": "stdout"
        },
        {
          "output_type": "stream",
          "text": [
            "INFO:tensorflow:*** Available Device: _DeviceAttributes(/job:localhost/replica:0/task:0/device:CPU:0, CPU, 0, 0)\n"
          ],
          "name": "stderr"
        },
        {
          "output_type": "stream",
          "text": [
            "INFO:tensorflow:*** Available Device: _DeviceAttributes(/job:worker/replica:0/task:0/device:CPU:0, CPU, 0, 0)\n"
          ],
          "name": "stdout"
        },
        {
          "output_type": "stream",
          "text": [
            "INFO:tensorflow:*** Available Device: _DeviceAttributes(/job:worker/replica:0/task:0/device:CPU:0, CPU, 0, 0)\n"
          ],
          "name": "stderr"
        },
        {
          "output_type": "stream",
          "text": [
            "INFO:tensorflow:*** Available Device: _DeviceAttributes(/job:worker/replica:0/task:0/device:TPU:0, TPU, 0, 0)\n"
          ],
          "name": "stdout"
        },
        {
          "output_type": "stream",
          "text": [
            "INFO:tensorflow:*** Available Device: _DeviceAttributes(/job:worker/replica:0/task:0/device:TPU:0, TPU, 0, 0)\n"
          ],
          "name": "stderr"
        },
        {
          "output_type": "stream",
          "text": [
            "INFO:tensorflow:*** Available Device: _DeviceAttributes(/job:worker/replica:0/task:0/device:TPU:1, TPU, 0, 0)\n"
          ],
          "name": "stdout"
        },
        {
          "output_type": "stream",
          "text": [
            "INFO:tensorflow:*** Available Device: _DeviceAttributes(/job:worker/replica:0/task:0/device:TPU:1, TPU, 0, 0)\n"
          ],
          "name": "stderr"
        },
        {
          "output_type": "stream",
          "text": [
            "INFO:tensorflow:*** Available Device: _DeviceAttributes(/job:worker/replica:0/task:0/device:TPU:2, TPU, 0, 0)\n"
          ],
          "name": "stdout"
        },
        {
          "output_type": "stream",
          "text": [
            "INFO:tensorflow:*** Available Device: _DeviceAttributes(/job:worker/replica:0/task:0/device:TPU:2, TPU, 0, 0)\n"
          ],
          "name": "stderr"
        },
        {
          "output_type": "stream",
          "text": [
            "INFO:tensorflow:*** Available Device: _DeviceAttributes(/job:worker/replica:0/task:0/device:TPU:3, TPU, 0, 0)\n"
          ],
          "name": "stdout"
        },
        {
          "output_type": "stream",
          "text": [
            "INFO:tensorflow:*** Available Device: _DeviceAttributes(/job:worker/replica:0/task:0/device:TPU:3, TPU, 0, 0)\n"
          ],
          "name": "stderr"
        },
        {
          "output_type": "stream",
          "text": [
            "INFO:tensorflow:*** Available Device: _DeviceAttributes(/job:worker/replica:0/task:0/device:TPU:4, TPU, 0, 0)\n"
          ],
          "name": "stdout"
        },
        {
          "output_type": "stream",
          "text": [
            "INFO:tensorflow:*** Available Device: _DeviceAttributes(/job:worker/replica:0/task:0/device:TPU:4, TPU, 0, 0)\n"
          ],
          "name": "stderr"
        },
        {
          "output_type": "stream",
          "text": [
            "INFO:tensorflow:*** Available Device: _DeviceAttributes(/job:worker/replica:0/task:0/device:TPU:5, TPU, 0, 0)\n"
          ],
          "name": "stdout"
        },
        {
          "output_type": "stream",
          "text": [
            "INFO:tensorflow:*** Available Device: _DeviceAttributes(/job:worker/replica:0/task:0/device:TPU:5, TPU, 0, 0)\n"
          ],
          "name": "stderr"
        },
        {
          "output_type": "stream",
          "text": [
            "INFO:tensorflow:*** Available Device: _DeviceAttributes(/job:worker/replica:0/task:0/device:TPU:6, TPU, 0, 0)\n"
          ],
          "name": "stdout"
        },
        {
          "output_type": "stream",
          "text": [
            "INFO:tensorflow:*** Available Device: _DeviceAttributes(/job:worker/replica:0/task:0/device:TPU:6, TPU, 0, 0)\n"
          ],
          "name": "stderr"
        },
        {
          "output_type": "stream",
          "text": [
            "INFO:tensorflow:*** Available Device: _DeviceAttributes(/job:worker/replica:0/task:0/device:TPU:7, TPU, 0, 0)\n"
          ],
          "name": "stdout"
        },
        {
          "output_type": "stream",
          "text": [
            "INFO:tensorflow:*** Available Device: _DeviceAttributes(/job:worker/replica:0/task:0/device:TPU:7, TPU, 0, 0)\n"
          ],
          "name": "stderr"
        },
        {
          "output_type": "stream",
          "text": [
            "INFO:tensorflow:*** Available Device: _DeviceAttributes(/job:worker/replica:0/task:0/device:TPU_SYSTEM:0, TPU_SYSTEM, 0, 0)\n"
          ],
          "name": "stdout"
        },
        {
          "output_type": "stream",
          "text": [
            "INFO:tensorflow:*** Available Device: _DeviceAttributes(/job:worker/replica:0/task:0/device:TPU_SYSTEM:0, TPU_SYSTEM, 0, 0)\n"
          ],
          "name": "stderr"
        },
        {
          "output_type": "stream",
          "text": [
            "INFO:tensorflow:*** Available Device: _DeviceAttributes(/job:worker/replica:0/task:0/device:XLA_CPU:0, XLA_CPU, 0, 0)\n"
          ],
          "name": "stdout"
        },
        {
          "output_type": "stream",
          "text": [
            "INFO:tensorflow:*** Available Device: _DeviceAttributes(/job:worker/replica:0/task:0/device:XLA_CPU:0, XLA_CPU, 0, 0)\n"
          ],
          "name": "stderr"
        }
      ]
    },
    {
      "cell_type": "code",
      "metadata": {
        "id": "P8sPH9K_1Ho9"
      },
      "source": [
        "BATCH_SIZE = 128 * strategy.num_replicas_in_sync # Gobal batch size.\r\n",
        "# The global batch size will be automatically sharded across all the 8 cores\r\n",
        "LEARNING_RATE = 0.01\r\n",
        "\r\n",
        "training_images_file   = 'gs://mnist-public/train-images-idx3-ubyte'\r\n",
        "training_labels_file   = 'gs://mnist-public/train-labels-idx1-ubyte'\r\n",
        "validation_images_file = 'gs://mnist-public/t10k-images-idx3-ubyte'\r\n",
        "validation_labels_file = 'gs://mnist-public/t10k-labels-idx1-ubyte'"
      ],
      "execution_count": 4,
      "outputs": []
    },
    {
      "cell_type": "code",
      "metadata": {
        "id": "PqmJOXbz1LUf"
      },
      "source": [
        "def read_label(tf_bytestring):\r\n",
        "    label = tf.io.decode_raw(tf_bytestring, tf.uint8)\r\n",
        "    label = tf.reshape(label, [])\r\n",
        "    label = tf.one_hot(label, 10)\r\n",
        "    return label"
      ],
      "execution_count": 5,
      "outputs": []
    },
    {
      "cell_type": "code",
      "metadata": {
        "id": "f-k5SIQg287F"
      },
      "source": [
        "def read_image(tf_bytestring):\r\n",
        "    image = tf.io.decode_raw(tf_bytestring, tf.uint8)\r\n",
        "    image = tf.cast(image, tf.float32)/255.0\r\n",
        "    image = tf.reshape(image, [28*28])\r\n",
        "    return image"
      ],
      "execution_count": 6,
      "outputs": []
    },
    {
      "cell_type": "code",
      "metadata": {
        "id": "h5AMTytX2_HT"
      },
      "source": [
        "def load_dataset(image_file, label_file):\r\n",
        "    imagedataset = tf.data.FixedLengthRecordDataset(image_file, 28*28, header_bytes=16, num_parallel_reads=tf.data.experimental.AUTOTUNE) #loads the length and the reads the file simultaneously\r\n",
        "    imagedataset = imagedataset.map(read_image, num_parallel_calls=tf.data.experimental.AUTOTUNE)  #reads the function which was used for preprocessin\r\n",
        "    labelsdataset = tf.data.FixedLengthRecordDataset(label_file, 1, header_bytes=8, num_parallel_reads=tf.data.experimental.AUTOTUNE)\r\n",
        "    labelsdataset = labelsdataset.map(read_label, num_parallel_calls=tf.data.experimental.AUTOTUNE)\r\n",
        "    dataset = tf.data.Dataset.zip((imagedataset, labelsdataset))\r\n",
        "    return dataset "
      ],
      "execution_count": 7,
      "outputs": []
    },
    {
      "cell_type": "code",
      "metadata": {
        "id": "KsQI20-Q3CK0"
      },
      "source": [
        "def get_training_dataset(image_file, label_file, batch_size):\r\n",
        "    dataset = load_dataset(image_file, label_file)\r\n",
        "    dataset = dataset.cache()  # dataset can be entirely cached in RAM\r\n",
        "    dataset = dataset.shuffle(5000, reshuffle_each_iteration=True) #shuffling the dataset\r\n",
        "    dataset = dataset.repeat() \r\n",
        "    dataset = dataset.batch(batch_size, drop_remainder=True) # drop_remainder makes sure we have the exact batch\r\n",
        "    dataset = dataset.prefetch(-1)  # fetch next batches while training on the current one \r\n",
        "    return dataset"
      ],
      "execution_count": 8,
      "outputs": []
    },
    {
      "cell_type": "code",
      "metadata": {
        "id": "soeBEsoO3O6d"
      },
      "source": [
        "def get_validation_dataset(image_file, label_file):\r\n",
        "    dataset = load_dataset(image_file, label_file)\r\n",
        "    dataset = dataset.cache() #  dataset can be entirely cached in RAM\r\n",
        "    dataset = dataset.batch(10000, drop_remainder=True) # 10000 items in eval dataset, all in one batch\r\n",
        "    dataset = dataset.repeat() \r\n",
        "    return dataset"
      ],
      "execution_count": 9,
      "outputs": []
    },
    {
      "cell_type": "code",
      "metadata": {
        "id": "gQqUZdP-3PuT"
      },
      "source": [
        "training_dataset = get_training_dataset(training_images_file, training_labels_file, BATCH_SIZE)\r\n",
        "validation_dataset = get_validation_dataset(validation_images_file, validation_labels_file)"
      ],
      "execution_count": 10,
      "outputs": []
    },
    {
      "cell_type": "code",
      "metadata": {
        "id": "4z8aSOGn3TWk"
      },
      "source": [
        "def create_model():\r\n",
        "  model = tf.keras.Sequential(\r\n",
        "      [\r\n",
        "        tf.keras.layers.Reshape(input_shape=(28*28,), target_shape=(28, 28, 1), name=\"image\"),\r\n",
        "\r\n",
        "        tf.keras.layers.Conv2D(filters=12, kernel_size=3, padding='same'), # no bias necessary before batch norm\r\n",
        "        tf.keras.layers.Activation('relu'), # activation after batch norm\r\n",
        "\r\n",
        "        tf.keras.layers.Conv2D(filters=24, kernel_size=6, padding='same'),\r\n",
        "        tf.keras.layers.Activation('relu'),\r\n",
        "\r\n",
        "        tf.keras.layers.Conv2D(filters=32, kernel_size=6, padding='same'),\r\n",
        "        tf.keras.layers.Activation('relu'),\r\n",
        "\r\n",
        "        tf.keras.layers.Flatten(),\r\n",
        "        tf.keras.layers.Dense(200, use_bias=False),\r\n",
        "        tf.keras.layers.Activation('relu'),\r\n",
        "        tf.keras.layers.Dropout(0.4), \r\n",
        "\r\n",
        "        tf.keras.layers.Dense(10, activation='softmax')\r\n",
        "      ])\r\n",
        "  model.compile(optimizer = tf.keras.optimizers.Adam(learning_rate=0.001, ), loss = 'categorical_crossentropy', metrics = ['accuracy'])\r\n",
        "  return model\r\n"
      ],
      "execution_count": 11,
      "outputs": []
    },
    {
      "cell_type": "code",
      "metadata": {
        "colab": {
          "base_uri": "https://localhost:8080/"
        },
        "id": "q8x6lUUF3dMP",
        "outputId": "54b53044-4e3f-4dcf-8048-56c4b9b10e5c"
      },
      "source": [
        "with strategy.scope():\r\n",
        "  model = create_model()\r\n",
        "  steps_per_epoch = 60000//BATCH_SIZE  # 60,000 items in this dataset\r\n",
        "  start_time = time.time()  \r\n",
        "  model.fit(training_dataset,\r\n",
        "            batch_size = BATCH_SIZE,\r\n",
        "            epochs=20,\r\n",
        "            steps_per_epoch=steps_per_epoch)\r\n",
        "  end_time = time.time()\r\n",
        "print(f\"Time taken to train DL model using TPU: {end_time-start_time}s\")"
      ],
      "execution_count": 12,
      "outputs": [
        {
          "output_type": "stream",
          "text": [
            "Epoch 1/20\n",
            "58/58 [==============================] - 5s 21ms/step - loss: 0.8114 - accuracy: 0.7350\n",
            "Epoch 2/20\n",
            "58/58 [==============================] - 1s 23ms/step - loss: 0.0995 - accuracy: 0.9708\n",
            "Epoch 3/20\n",
            "58/58 [==============================] - 1s 23ms/step - loss: 0.0667 - accuracy: 0.9803\n",
            "Epoch 4/20\n",
            "58/58 [==============================] - 1s 23ms/step - loss: 0.0480 - accuracy: 0.9869\n",
            "Epoch 5/20\n",
            "58/58 [==============================] - 1s 23ms/step - loss: 0.0348 - accuracy: 0.9885\n",
            "Epoch 6/20\n",
            "58/58 [==============================] - 1s 23ms/step - loss: 0.0303 - accuracy: 0.9905\n",
            "Epoch 7/20\n",
            "58/58 [==============================] - 1s 22ms/step - loss: 0.0257 - accuracy: 0.9919\n",
            "Epoch 8/20\n",
            "58/58 [==============================] - 1s 22ms/step - loss: 0.0217 - accuracy: 0.9931\n",
            "Epoch 9/20\n",
            "58/58 [==============================] - 1s 22ms/step - loss: 0.0192 - accuracy: 0.9941\n",
            "Epoch 10/20\n",
            "58/58 [==============================] - 1s 22ms/step - loss: 0.0171 - accuracy: 0.9944\n",
            "Epoch 11/20\n",
            "58/58 [==============================] - 1s 23ms/step - loss: 0.0129 - accuracy: 0.9960\n",
            "Epoch 12/20\n",
            "58/58 [==============================] - 1s 23ms/step - loss: 0.0124 - accuracy: 0.9961\n",
            "Epoch 13/20\n",
            "58/58 [==============================] - 1s 22ms/step - loss: 0.0106 - accuracy: 0.9967\n",
            "Epoch 14/20\n",
            "58/58 [==============================] - 1s 23ms/step - loss: 0.0112 - accuracy: 0.9962\n",
            "Epoch 15/20\n",
            "58/58 [==============================] - 1s 22ms/step - loss: 0.0095 - accuracy: 0.9970\n",
            "Epoch 16/20\n",
            "58/58 [==============================] - 1s 22ms/step - loss: 0.0085 - accuracy: 0.9967\n",
            "Epoch 17/20\n",
            "58/58 [==============================] - 1s 22ms/step - loss: 0.0074 - accuracy: 0.9974\n",
            "Epoch 18/20\n",
            "58/58 [==============================] - 1s 22ms/step - loss: 0.0065 - accuracy: 0.9978\n",
            "Epoch 19/20\n",
            "58/58 [==============================] - 1s 22ms/step - loss: 0.0054 - accuracy: 0.9980\n",
            "Epoch 20/20\n",
            "58/58 [==============================] - 1s 23ms/step - loss: 0.0063 - accuracy: 0.9977\n",
            "Time taken to train DL model using TPU: 31.502641201019287s\n"
          ],
          "name": "stdout"
        }
      ]
    },
    {
      "cell_type": "code",
      "metadata": {
        "id": "7D5hVPVO4Ps7",
        "colab": {
          "base_uri": "https://localhost:8080/"
        },
        "outputId": "b0161af7-85e5-4d15-f040-bddeb01fe65b"
      },
      "source": [
        "final_stats = model.evaluate(validation_dataset, steps=1)\r\n",
        "print(\"Validation accuracy: \", final_stats[1])"
      ],
      "execution_count": 13,
      "outputs": [
        {
          "output_type": "stream",
          "text": [
            "1/1 [==============================] - 2s 2s/step - loss: 0.0314 - accuracy: 0.9920\n",
            "Validation accuracy:  0.9919999837875366\n"
          ],
          "name": "stdout"
        }
      ]
    }
  ]
}